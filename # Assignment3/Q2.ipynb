{
 "cells": [
  {
   "cell_type": "code",
   "execution_count": 1,
   "id": "c1ab159c",
   "metadata": {},
   "outputs": [
    {
     "name": "stdout",
     "output_type": "stream",
     "text": [
      "original is :  1234abcd\n",
      "reversal is :  dcba4321\n"
     ]
    }
   ],
   "source": [
    "def reverse_string(str):\n",
    "    string=\"\"\n",
    "    for i in str:\n",
    "        string = i + string\n",
    "    return string\n",
    "str = \"1234abcd\"\n",
    "print(\"original is : \",str)\n",
    "print(\"reversal is : \",reverse_string(str))"
   ]
  },
  {
   "cell_type": "code",
   "execution_count": null,
   "id": "b5dea759",
   "metadata": {},
   "outputs": [],
   "source": []
  }
 ],
 "metadata": {
  "kernelspec": {
   "display_name": "Python 3 (ipykernel)",
   "language": "python",
   "name": "python3"
  },
  "language_info": {
   "codemirror_mode": {
    "name": "ipython",
    "version": 3
   },
   "file_extension": ".py",
   "mimetype": "text/x-python",
   "name": "python",
   "nbconvert_exporter": "python",
   "pygments_lexer": "ipython3",
   "version": "3.9.7"
  }
 },
 "nbformat": 4,
 "nbformat_minor": 5
}
